{
 "cells": [
  {
   "cell_type": "code",
   "execution_count": 1,
   "id": "961a9bd8-37a4-47d5-8f26-044a975e5875",
   "metadata": {},
   "outputs": [],
   "source": [
    "import numpy as np"
   ]
  },
  {
   "cell_type": "markdown",
   "id": "51835809-a729-4dd7-aaaf-654a32a4808a",
   "metadata": {},
   "source": [
    "# Problème 1D"
   ]
  },
  {
   "cell_type": "code",
   "execution_count": 2,
   "id": "7ff7ccf6-15dc-4583-8ef8-e0c2b2a4a352",
   "metadata": {},
   "outputs": [],
   "source": [
    "def f_idt_1(N):\n",
    "\n",
    "    f = np.zeros(N)\n",
    "    for i in range (N):\n",
    "        f[i] = 1\n",
    "\n",
    "    return f"
   ]
  },
  {
   "cell_type": "code",
   "execution_count": 6,
   "id": "43feb05e-ebc2-4410-bcfd-fc8a29828fbd",
   "metadata": {},
   "outputs": [],
   "source": [
    "def generer_A(N):\n",
    "\n",
    "    A = np.zeros((N, N))\n",
    "    A[0, 0], A[0, 1], A[N - 1, N - 2], A[N - 1, N - 1] = 2 * N * N, - N * N, - N * N, 2 * N * N\n",
    "    for i in range (1, N - 1):\n",
    "        A[i, i] = 2 * N * N\n",
    "        A[i, i - 1] = - N * N\n",
    "        A[i, i + 1] = - N * N\n",
    "\n",
    "    return A"
   ]
  },
  {
   "cell_type": "code",
   "execution_count": 9,
   "id": "1b2d70e3-90c6-40d6-b3f4-6cc2d0a7d6ff",
   "metadata": {},
   "outputs": [],
   "source": [
    "def calculer_u(A, f):\n",
    "\n",
    "    u = np.linalg.solve(A, f)\n",
    "\n",
    "    return u"
   ]
  },
  {
   "cell_type": "code",
   "execution_count": 15,
   "id": "e18d740d-48e6-4670-9418-61794378ba91",
   "metadata": {},
   "outputs": [
    {
     "name": "stdout",
     "output_type": "stream",
     "text": [
      "[[ 20000. -10000.      0. ...      0.      0.      0.]\n",
      " [-10000.  20000. -10000. ...      0.      0.      0.]\n",
      " [     0. -10000.  20000. ...      0.      0.      0.]\n",
      " ...\n",
      " [     0.      0.      0. ...  20000. -10000.      0.]\n",
      " [     0.      0.      0. ... -10000.  20000. -10000.]\n",
      " [     0.      0.      0. ...      0. -10000.  20000.]]\n",
      "[0.005  0.0099 0.0147 0.0194 0.024  0.0285 0.0329 0.0372 0.0414 0.0455\n",
      " 0.0495 0.0534 0.0572 0.0609 0.0645 0.068  0.0714 0.0747 0.0779 0.081\n",
      " 0.084  0.0869 0.0897 0.0924 0.095  0.0975 0.0999 0.1022 0.1044 0.1065\n",
      " 0.1085 0.1104 0.1122 0.1139 0.1155 0.117  0.1184 0.1197 0.1209 0.122\n",
      " 0.123  0.1239 0.1247 0.1254 0.126  0.1265 0.1269 0.1272 0.1274 0.1275\n",
      " 0.1275 0.1274 0.1272 0.1269 0.1265 0.126  0.1254 0.1247 0.1239 0.123\n",
      " 0.122  0.1209 0.1197 0.1184 0.117  0.1155 0.1139 0.1122 0.1104 0.1085\n",
      " 0.1065 0.1044 0.1022 0.0999 0.0975 0.095  0.0924 0.0897 0.0869 0.084\n",
      " 0.081  0.0779 0.0747 0.0714 0.068  0.0645 0.0609 0.0572 0.0534 0.0495\n",
      " 0.0455 0.0414 0.0372 0.0329 0.0285 0.024  0.0194 0.0147 0.0099 0.005 ]\n"
     ]
    }
   ],
   "source": [
    "N = 100\n",
    "f = f_idt_1(N)\n",
    "A = generer_A(N)\n",
    "print(A)\n",
    "u = calculer_u(A, f)\n",
    "print(u)"
   ]
  },
  {
   "cell_type": "code",
   "execution_count": null,
   "id": "c5c6818a-0c37-430e-9b83-a5cc582d0d7d",
   "metadata": {},
   "outputs": [],
   "source": []
  }
 ],
 "metadata": {
  "kernelspec": {
   "display_name": "Python 3 (ipykernel)",
   "language": "python",
   "name": "python3"
  },
  "language_info": {
   "codemirror_mode": {
    "name": "ipython",
    "version": 3
   },
   "file_extension": ".py",
   "mimetype": "text/x-python",
   "name": "python",
   "nbconvert_exporter": "python",
   "pygments_lexer": "ipython3",
   "version": "3.10.14"
  }
 },
 "nbformat": 4,
 "nbformat_minor": 5
}

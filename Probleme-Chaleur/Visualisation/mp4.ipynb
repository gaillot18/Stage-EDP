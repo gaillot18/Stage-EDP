{
 "cells": [
  {
   "cell_type": "code",
   "execution_count": 66,
   "id": "07b41920-57c2-4981-9807-5b9fa6dcdcd1",
   "metadata": {},
   "outputs": [],
   "source": [
    "import numpy as np\n",
    "import matplotlib.pyplot as plt\n",
    "from matplotlib.animation import FuncAnimation, FFMpegWriter"
   ]
  },
  {
   "cell_type": "code",
   "execution_count": 75,
   "id": "b6ae3f0b-cb06-4999-8a24-1af7250195fe",
   "metadata": {},
   "outputs": [],
   "source": [
    "def creer_video_mp4(taille, nom_fichier_bin, nom_fichier_mp4):\n",
    "    nt, nx, ny = taille\n",
    "    data = np.fromfile(nom_fichier_bin, dtype=np.float64).reshape(taille)\n",
    "\n",
    "    fig, ax = plt.subplots()\n",
    "    img = ax.imshow(data[0], cmap='viridis', origin='lower')\n",
    "    ax.set_title('t = 0.000')\n",
    "    plt.colorbar(img, ax=ax)\n",
    "\n",
    "    def update(frame):\n",
    "        img.set_data(data[frame])\n",
    "        ax.set_title(f't = {frame/nt:.3f}')\n",
    "        return [img]\n",
    "\n",
    "    anim = FuncAnimation(fig, update, frames=nt, blit=True)\n",
    "\n",
    "    # Writer FFMpeg - assure-toi que ffmpeg est installé sur ta machine\n",
    "    writer = FFMpegWriter(fps=10, metadata=dict(artist='Moi'), bitrate=1800)\n",
    "    anim.save(nom_fichier_mp4, writer=writer)\n",
    "    plt.close(fig)\n",
    "\n",
    "    return None\n"
   ]
  },
  {
   "cell_type": "code",
   "execution_count": 76,
   "id": "285bacf0-c0b8-4d89-ae4f-2605e46d4d24",
   "metadata": {},
   "outputs": [],
   "source": [
    "taille = (401, 401, 401)\n",
    "creer_video_mp4(taille, nom_fichier_bin = '../Textes/sequentiel-2/resultats.bin', nom_fichier_mp4 = 'sequentiel-2/resultats.mp4')"
   ]
  },
  {
   "cell_type": "code",
   "execution_count": null,
   "id": "6f8f8505-24c7-49fe-ac27-9d3dc83d2ee7",
   "metadata": {},
   "outputs": [],
   "source": []
  }
 ],
 "metadata": {
  "kernelspec": {
   "display_name": "Python 3 (ipykernel)",
   "language": "python",
   "name": "python3"
  },
  "language_info": {
   "codemirror_mode": {
    "name": "ipython",
    "version": 3
   },
   "file_extension": ".py",
   "mimetype": "text/x-python",
   "name": "python",
   "nbconvert_exporter": "python",
   "pygments_lexer": "ipython3",
   "version": "3.10.14"
  }
 },
 "nbformat": 4,
 "nbformat_minor": 5
}

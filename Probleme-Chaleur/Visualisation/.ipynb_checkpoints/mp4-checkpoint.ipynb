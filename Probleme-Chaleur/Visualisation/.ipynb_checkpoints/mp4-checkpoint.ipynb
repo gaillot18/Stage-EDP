{
 "cells": [
  {
   "cell_type": "code",
   "execution_count": 1,
   "id": "58e76631-738d-4570-adfc-919b7434e5e8",
   "metadata": {},
   "outputs": [],
   "source": [
    "import numpy as np\n",
    "import h5py"
   ]
  },
  {
   "cell_type": "code",
   "execution_count": 2,
   "id": "e57fefa6-95d5-40b8-b5ee-392263f046e7",
   "metadata": {},
   "outputs": [],
   "source": [
    "def creer_hdf5(taille : tuple[int, int, int], fichier_bin : str, fichier_hdf5 : str) -> None:\n",
    "\n",
    "    fichier_hdf5 = h5py.File(fichier_hdf5, \"a\")\n",
    "    donnee = np.fromfile(fichier_bin, dtype = np.float64).reshape(taille)\n",
    "    fichier_hdf5.create_dataset(\"u\", data = donnee)\n",
    "    fichier_hdf5.close()\n",
    "\n",
    "    return None"
   ]
  },
  {
   "cell_type": "code",
   "execution_count": null,
   "id": "1ff23063-c242-4649-bce8-00c990560886",
   "metadata": {},
   "outputs": [],
   "source": [
    "def creer_xdmf(taille : tuple[int, int, int], fichier_hdf5 : str, fichier_xdmf : str, donnee : str) -> None:\n",
    "    \n",
    "    T, X, Y = taille\n",
    "\n",
    "    f = open(fichier_xdmf, \"w\")\n",
    "\n",
    "    f.write(\"\"\"<?xml version=\"1.0\" ?>\\n<Xdmf Version=\"3.0\">\\n  <Domain>\\n\"\"\")\n",
    "\n",
    "    for t in range(T):\n",
    "        xml = f\"\"\"\\\n",
    "        <Grid Name=\"Timestep_{t}\" GridType=\"Uniform\">\n",
    "          <Time Value=\"{t}\" />\n",
    "          <Topology TopologyType=\"2DRectMesh\" Dimensions=\"{X} {Y}\" />\n",
    "          <Geometry GeometryType=\"Origin_DxDy\">\n",
    "            <DataItem Dimensions=\"2\" Format=\"XML\">0 0</DataItem>\n",
    "            <DataItem Dimensions=\"2\" Format=\"XML\">1 1</DataItem>\n",
    "          </Geometry>\n",
    "          <Attribute Name=\"{donnee}\" AttributeType=\"Scalar\" Center=\"Node\">\n",
    "            <DataItem Dimensions=\"{X} {Y}\" Format=\"HDF\">{fichier_hdf5}:/{donnee}[{t},:,:]</DataItem>\n",
    "          </Attribute>\n",
    "        </Grid>\n",
    "        \"\"\"\n",
    "        f.write(xml)\n",
    "\n",
    "    f.write(\"  </Domain>\\n</Xdmf>\\n\")\n",
    "    f.close()\n",
    "\n",
    "    return None"
   ]
  }
 ],
 "metadata": {
  "kernelspec": {
   "display_name": "Python 3 (ipykernel)",
   "language": "python",
   "name": "python3"
  },
  "language_info": {
   "codemirror_mode": {
    "name": "ipython",
    "version": 3
   },
   "file_extension": ".py",
   "mimetype": "text/x-python",
   "name": "python",
   "nbconvert_exporter": "python",
   "pygments_lexer": "ipython3",
   "version": "3.10.14"
  }
 },
 "nbformat": 4,
 "nbformat_minor": 5
}
